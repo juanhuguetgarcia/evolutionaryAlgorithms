{
 "cells": [
  {
   "cell_type": "markdown",
   "metadata": {},
   "source": [
    "### Price optimization\n",
    "---\n",
    "\n",
    "In short, this little problem stems from the one stated [here](https://www.analyticsvidhya.com/blog/2016/07/solving-case-study-optimize-products-price-online-vendor-level-hard), in which we are in charge of comming up with an optimal price for each item in a list that maximizes revenue.\n",
    "\n",
    "Note that the real **challenge** in this kind of problems is to find/establish the price elasticity curve and to define the search space restrictions. In the given data, such relation and information is already given hence the problem can be approached from a mathematical optimization point of view: simplex, linear programming, etc...\n",
    "\n",
    "This script solves the pricing list optimization using `deap` toolbox, a evolutionary programming framework in python.\n",
    "\n",
    "Let's see how it behaves."
   ]
  },
  {
   "cell_type": "code",
   "execution_count": 28,
   "metadata": {
    "collapsed": true
   },
   "outputs": [],
   "source": [
    "from deap import creator, base, tools, algorithms\n",
    "import pandas as pd\n",
    "import numpy as np\n",
    "import random\n",
    "import sys"
   ]
  },
  {
   "cell_type": "code",
   "execution_count": 29,
   "metadata": {
    "collapsed": true
   },
   "outputs": [],
   "source": [
    "#load data\n",
    "dummy_data = \"https://www.analyticsvidhya.com/wp-content/uploads/2016/07/Vendor_Data.csv\"\n",
    "data = pd.read_csv(dummy_data)"
   ]
  },
  {
   "cell_type": "code",
   "execution_count": 30,
   "metadata": {
    "collapsed": true
   },
   "outputs": [],
   "source": [
    "# Define evaluation function: maximize revenue. Should return a tuple for the sake of DEAP compatibility\n",
    "def evalFitness(increment):\n",
    "    price = data['Avg_Price_per_unit'] * (1 + increment)  # price variation\n",
    "    volumes = data['Average_units_sold']*(1 - (data['Increase_sale_volume'] * increment * 10)) # volume sale variation\n",
    "    multiplier = (1-(data['Incremental_acquisition']*increment*10)) # increase in customer response rate\n",
    "    profit_wo_multiplier = 0.05*(price*volumes - volumes*data['Cost_per_unit']) # profit wo taking into account user response\n",
    "    profit_w_multiplier = profit_wo_multiplier*multiplier  # profit taking into account user response\n",
    "    net_profit = profit_w_multiplier.sum()\n",
    "    return net_profit,"
   ]
  },
  {
   "cell_type": "code",
   "execution_count": 31,
   "metadata": {
    "collapsed": true
   },
   "outputs": [],
   "source": [
    "# Checks if an indivifual (an array of price modifications) is within the problem restrictions\n",
    "def checkBounds(min, max):\n",
    "    def decorator(func):\n",
    "        def wrappper(*args, **kargs):\n",
    "            offspring = func(*args, **kargs)\n",
    "            for child in offspring:\n",
    "                for i in range(len(child)):\n",
    "                    if child[i] > max:\n",
    "                        child[i] = max\n",
    "                    elif child[i] < min:\n",
    "                        child[i] = min\n",
    "            return offspring\n",
    "        return wrappper\n",
    "    return decorator"
   ]
  },
  {
   "cell_type": "code",
   "execution_count": 32,
   "metadata": {
    "collapsed": true
   },
   "outputs": [],
   "source": [
    "# create the fitness function and the individual.\n",
    "\n",
    "creator.create(\"FitnessMax\", base.Fitness, weights=(1.0,))\n",
    "creator.create(\"Individual\", np.ndarray, fitness=creator.FitnessMax)\n",
    "\n",
    "# register in the toolbox DEAP tools needed to initialize the problem and the algorithm evaluation\n",
    "toolbox = base.Toolbox()\n",
    "\n",
    "# initializes population individuals using a random uniform sample between the problem restrictions\n",
    "toolbox.register(\"delta_incr\", random.uniform, -0.099, 0.19)\n",
    "toolbox.register(\"individual\", tools.initRepeat, creator.Individual, toolbox.delta_incr, n=250)\n",
    "toolbox.register(\"population\", tools.initRepeat, list, toolbox.individual, n=100)\n",
    "\n",
    "# register evaluation function\n",
    "toolbox.register(\"evaluate\", evalFitness)\n",
    "\n",
    "# register crossover evaluation\n",
    "toolbox.register(\"mate\", tools.cxTwoPoint)\n",
    "\n",
    "# register mutation policy\n",
    "toolbox.register(\"mutate\", tools.mutGaussian, mu=0, sigma=0.03, indpb=0.1)\n",
    "\n",
    "# register the selection process \n",
    "toolbox.register(\"select\",  tools.selTournament, tournsize=10)\n",
    "\n",
    "# decorate the mate and mutate steps to be within the boundaries\n",
    "\n",
    "toolbox.decorate(\"mate\", checkBounds(-0.099, 0.19))\n",
    "toolbox.decorate(\"mutate\", checkBounds(-0.099, 0.19)) \n",
    "\n",
    "pop = toolbox.population(n=100)\n",
    "\n",
    "hof = tools.HallOfFame(1, similar=np.array_equal)\n",
    "\n",
    "stats = tools.Statistics(lambda ind: ind.fitness.values)\n",
    "stats.register(\"max\", np.max)\n",
    "stats.register(\"min\", np.min)\n",
    "stats.register(\"avg\", np.mean)"
   ]
  },
  {
   "cell_type": "code",
   "execution_count": 33,
   "metadata": {
    "collapsed": false
   },
   "outputs": [
    {
     "name": "stdout",
     "output_type": "stream",
     "text": [
      "CPU times: user 18.6 s, sys: 12 ms, total: 18.6 s\n",
      "Wall time: 18.5 s\n"
     ]
    }
   ],
   "source": [
    "%%time\n",
    "result, log = algorithms.eaSimple(pop, toolbox,\n",
    "                                  cxpb=0.1, mutpb=0.1,\n",
    "                                  ngen=1000, verbose=False, halloffame=hof, stats=stats)\n"
   ]
  },
  {
   "cell_type": "code",
   "execution_count": 34,
   "metadata": {
    "collapsed": false,
    "scrolled": true
   },
   "outputs": [
    {
     "data": {
      "text/plain": [
       "<matplotlib.legend.Legend at 0x7f1ed299d470>"
      ]
     },
     "execution_count": 34,
     "metadata": {},
     "output_type": "execute_result"
    },
    {
     "data": {
      "image/png": "[encoded data removed]",
      "text/plain": [
       "<matplotlib.figure.Figure at 0x7f1ed2d544e0>"
      ]
     },
     "metadata": {},
     "output_type": "display_data"
    }
   ],
   "source": [
    "%matplotlib inline\n",
    "import matplotlib.pyplot as plt\n",
    "\n",
    "gen = [l['gen'] for l in log]\n",
    "\n",
    "max_profit = [l['max'] for l in log]\n",
    "min_profit = [l['min'] for l in log]\n",
    "avg_profit = [l['avg'] for l in log]\n",
    "\n",
    "plt.plot(gen, max_profit, label='max')\n",
    "plt.plot(gen, min_profit, label='min')\n",
    "plt.plot(gen, avg_profit, label='avg')\n",
    "\n",
    "plt.legend(loc='best')"
   ]
  },
  {
   "cell_type": "code",
   "execution_count": 36,
   "metadata": {
    "collapsed": false
   },
   "outputs": [
    {
     "data": {
      "text/plain": [
       "332.46874259298335"
      ]
     },
     "execution_count": 36,
     "metadata": {},
     "output_type": "execute_result"
    }
   ],
   "source": [
    "max(max_profit)"
   ]
  },
  {
   "cell_type": "markdown",
   "metadata": {},
   "source": [
    "---\n",
    "\n",
    "We see that after ~400 generations we reach to a *plateau* and the gain in revenue is marginal, indicating that we may have reached an optimal price for each item in the list."
   ]
  }
 ],
 "metadata": {
  "anaconda-cloud": {},
  "kernelspec": {
   "display_name": "Python [default]",
   "language": "python",
   "name": "python3"
  },
  "language_info": {
   "codemirror_mode": {
    "name": "ipython",
    "version": 3
   },
   "file_extension": ".py",
   "mimetype": "text/x-python",
   "name": "python",
   "nbconvert_exporter": "python",
   "pygments_lexer": "ipython3",
   "version": "3.5.2"
  }
 },
 "nbformat": 4,
 "nbformat_minor": 2
}
